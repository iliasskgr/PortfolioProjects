{
 "cells": [
  {
   "cell_type": "markdown",
   "id": "a5b3bc0e-b993-4ee3-bd07-825a474bd0d9",
   "metadata": {
    "tags": []
   },
   "source": [
    "# Data Analyst Associate Practical Exam Submission\n",
    "\n",
    "**You can use any tool that you want to do your analysis and create visualizations. Use this template to write up your summary for submission.**\n",
    "\n",
    "You can use any markdown formatting you wish. If you are not familiar with Markdown, read the [Markdown Guide](https://s3.amazonaws.com/talent-assets.datacamp.com/Markdown+Guide.pdf) before you start.\n",
    "\n"
   ]
  },
  {
   "cell_type": "markdown",
   "id": "d1b1a012-1ccb-40e7-a1ad-77b60b256690",
   "metadata": {
    "jp-MarkdownHeadingCollapsed": true,
    "tags": []
   },
   "source": [
    "## Task 1\n",
    "\n"
   ]
  },
  {
   "cell_type": "markdown",
   "id": "0c0fba18-f78c-498e-96d8-f42983755920",
   "metadata": {},
   "source": [
    "For every column in the data: \n",
    "\n",
    "a. State whether the values match the description given in the table above. \n",
    "\n",
    "b. State the number of missing values in the column. \n",
    "\n",
    "c. Describe what you did to make values match the description if they did not match."
   ]
  },
  {
   "cell_type": "markdown",
   "id": "25cc39a8-cf4d-4442-8b4d-e47930a3aa7c",
   "metadata": {},
   "source": [
    "![Criteria](Criteria.png)"
   ]
  },
  {
   "cell_type": "code",
   "execution_count": 394,
   "id": "83b82028-b52d-45dc-a1c0-2b59f2ad5383",
   "metadata": {
    "executionCancelledAt": null,
    "executionTime": 4662,
    "lastExecutedAt": 1695472726745,
    "lastScheduledRunId": null,
    "lastSuccessfullyExecutedCode": "#############################\n## Importing the necessary libraries\n#############################\nimport pandas as pd\nimport matplotlib.pyplot as plt\nimport seaborn as sns\n!pip install openpyxl\nfrom scipy.stats import kurtosis, skew, mode\n\n\n",
    "outputsMetadata": {
     "0": {
      "height": 76,
      "type": "stream"
     }
    }
   },
   "outputs": [
    {
     "name": "stdout",
     "output_type": "stream",
     "text": [
      "Defaulting to user installation because normal site-packages is not writeable\n",
      "Requirement already satisfied: openpyxl in /usr/local/lib/python3.8/dist-packages (3.0.10)\n",
      "Requirement already satisfied: et-xmlfile in /usr/local/lib/python3.8/dist-packages (from openpyxl) (1.1.0)\n"
     ]
    }
   ],
   "source": [
    "#############################\n",
    "## Importing the necessary libraries\n",
    "#############################\n",
    "import pandas as pd\n",
    "import matplotlib.pyplot as plt\n",
    "import seaborn as sns\n",
    "!pip install openpyxl\n",
    "from scipy.stats import kurtosis, skew, mode\n",
    "\n",
    "\n"
   ]
  },
  {
   "cell_type": "code",
   "execution_count": 395,
   "id": "37467d12-65fa-44c0-9e4c-832c18795b77",
   "metadata": {
    "chartConfig": {
     "bar": {
      "hasRoundedCorners": true,
      "stacked": false
     },
     "type": "bar",
     "version": "v1"
    },
    "executionCancelledAt": null,
    "executionTime": 49,
    "lastExecutedAt": 1695472726795,
    "lastScheduledRunId": null,
    "lastSuccessfullyExecutedCode": "# Load the data\nfile_path = 'pet_supplies_2212.csv'\ndf = pd.read_csv(file_path)\n\n# Display the first few rows of the dataframe to understand its structure and contents\ndf.head()",
    "outputsMetadata": {
     "0": {
      "height": 191,
      "type": "dataFrame"
     }
    },
    "visualizeDataframe": false
   },
   "outputs": [
    {
     "data": {
      "application/com.datacamp.data-table.v1+json": {
       "table": {
        "data": [
         {
          "animal": "Bird",
          "category": "Food",
          "index": 0,
          "price": "51.1",
          "product_id": 1,
          "rating": 7,
          "repeat_purchase": 1,
          "sales": 1860.62,
          "size": "large"
         },
         {
          "animal": "Bird",
          "category": "Housing",
          "index": 1,
          "price": "35.98",
          "product_id": 2,
          "rating": 6,
          "repeat_purchase": 0,
          "sales": 963.6,
          "size": "MEDIUM"
         },
         {
          "animal": "Dog",
          "category": "Food",
          "index": 2,
          "price": "31.23",
          "product_id": 3,
          "rating": 5,
          "repeat_purchase": 1,
          "sales": 898.3,
          "size": "medium"
         },
         {
          "animal": "Cat",
          "category": "Medicine",
          "index": 3,
          "price": "24.95",
          "product_id": 4,
          "rating": 6,
          "repeat_purchase": 1,
          "sales": 982.15,
          "size": "small"
         },
         {
          "animal": "Cat",
          "category": "Housing",
          "index": 4,
          "price": "26.18",
          "product_id": 5,
          "rating": 7,
          "repeat_purchase": 1,
          "sales": 832.63,
          "size": "Small"
         }
        ],
        "schema": {
         "fields": [
          {
           "name": "index",
           "type": "integer"
          },
          {
           "name": "product_id",
           "type": "integer"
          },
          {
           "name": "category",
           "type": "string"
          },
          {
           "name": "animal",
           "type": "string"
          },
          {
           "name": "size",
           "type": "string"
          },
          {
           "name": "price",
           "type": "string"
          },
          {
           "name": "sales",
           "type": "number"
          },
          {
           "name": "rating",
           "type": "number"
          },
          {
           "name": "repeat_purchase",
           "type": "integer"
          }
         ],
         "pandas_version": "1.4.0",
         "primaryKey": [
          "index"
         ]
        }
       },
       "total_rows": 5,
       "truncation_type": null
      },
      "text/html": [
       "<div>\n",
       "<style scoped>\n",
       "    .dataframe tbody tr th:only-of-type {\n",
       "        vertical-align: middle;\n",
       "    }\n",
       "\n",
       "    .dataframe tbody tr th {\n",
       "        vertical-align: top;\n",
       "    }\n",
       "\n",
       "    .dataframe thead th {\n",
       "        text-align: right;\n",
       "    }\n",
       "</style>\n",
       "<table border=\"1\" class=\"dataframe\">\n",
       "  <thead>\n",
       "    <tr style=\"text-align: right;\">\n",
       "      <th></th>\n",
       "      <th>product_id</th>\n",
       "      <th>category</th>\n",
       "      <th>animal</th>\n",
       "      <th>size</th>\n",
       "      <th>price</th>\n",
       "      <th>sales</th>\n",
       "      <th>rating</th>\n",
       "      <th>repeat_purchase</th>\n",
       "    </tr>\n",
       "  </thead>\n",
       "  <tbody>\n",
       "    <tr>\n",
       "      <th>0</th>\n",
       "      <td>1</td>\n",
       "      <td>Food</td>\n",
       "      <td>Bird</td>\n",
       "      <td>large</td>\n",
       "      <td>51.1</td>\n",
       "      <td>1860.62</td>\n",
       "      <td>7.0</td>\n",
       "      <td>1</td>\n",
       "    </tr>\n",
       "    <tr>\n",
       "      <th>1</th>\n",
       "      <td>2</td>\n",
       "      <td>Housing</td>\n",
       "      <td>Bird</td>\n",
       "      <td>MEDIUM</td>\n",
       "      <td>35.98</td>\n",
       "      <td>963.60</td>\n",
       "      <td>6.0</td>\n",
       "      <td>0</td>\n",
       "    </tr>\n",
       "    <tr>\n",
       "      <th>2</th>\n",
       "      <td>3</td>\n",
       "      <td>Food</td>\n",
       "      <td>Dog</td>\n",
       "      <td>medium</td>\n",
       "      <td>31.23</td>\n",
       "      <td>898.30</td>\n",
       "      <td>5.0</td>\n",
       "      <td>1</td>\n",
       "    </tr>\n",
       "    <tr>\n",
       "      <th>3</th>\n",
       "      <td>4</td>\n",
       "      <td>Medicine</td>\n",
       "      <td>Cat</td>\n",
       "      <td>small</td>\n",
       "      <td>24.95</td>\n",
       "      <td>982.15</td>\n",
       "      <td>6.0</td>\n",
       "      <td>1</td>\n",
       "    </tr>\n",
       "    <tr>\n",
       "      <th>4</th>\n",
       "      <td>5</td>\n",
       "      <td>Housing</td>\n",
       "      <td>Cat</td>\n",
       "      <td>Small</td>\n",
       "      <td>26.18</td>\n",
       "      <td>832.63</td>\n",
       "      <td>7.0</td>\n",
       "      <td>1</td>\n",
       "    </tr>\n",
       "  </tbody>\n",
       "</table>\n",
       "</div>"
      ],
      "text/plain": [
       "   product_id  category animal    size  price    sales  rating  repeat_purchase\n",
       "0           1      Food   Bird   large   51.1  1860.62     7.0                1\n",
       "1           2   Housing   Bird  MEDIUM  35.98   963.60     6.0                0\n",
       "2           3      Food    Dog  medium  31.23   898.30     5.0                1\n",
       "3           4  Medicine    Cat   small  24.95   982.15     6.0                1\n",
       "4           5   Housing    Cat   Small  26.18   832.63     7.0                1"
      ]
     },
     "execution_count": 395,
     "metadata": {},
     "output_type": "execute_result"
    }
   ],
   "source": [
    "# Load the data\n",
    "file_path = 'pet_supplies_2212.csv'\n",
    "df = pd.read_csv(file_path)\n",
    "\n",
    "# Display the first few rows of the dataframe to understand its structure and contents\n",
    "df.head()"
   ]
  },
  {
   "cell_type": "code",
   "execution_count": 396,
   "id": "e36484c0-702a-4c43-bf43-b22297339850",
   "metadata": {
    "executionCancelledAt": null,
    "executionTime": 56,
    "lastExecutedAt": 1695472726852,
    "lastScheduledRunId": null,
    "lastSuccessfullyExecutedCode": "df.info()",
    "outputsMetadata": {
     "0": {
      "height": 310,
      "type": "stream"
     }
    }
   },
   "outputs": [
    {
     "name": "stdout",
     "output_type": "stream",
     "text": [
      "<class 'pandas.core.frame.DataFrame'>\n",
      "RangeIndex: 1500 entries, 0 to 1499\n",
      "Data columns (total 8 columns):\n",
      " #   Column           Non-Null Count  Dtype  \n",
      "---  ------           --------------  -----  \n",
      " 0   product_id       1500 non-null   int64  \n",
      " 1   category         1500 non-null   object \n",
      " 2   animal           1500 non-null   object \n",
      " 3   size             1500 non-null   object \n",
      " 4   price            1500 non-null   object \n",
      " 5   sales            1500 non-null   float64\n",
      " 6   rating           1350 non-null   float64\n",
      " 7   repeat_purchase  1500 non-null   int64  \n",
      "dtypes: float64(2), int64(2), object(4)\n",
      "memory usage: 93.9+ KB\n"
     ]
    }
   ],
   "source": [
    "df.info()"
   ]
  },
  {
   "cell_type": "code",
   "execution_count": 397,
   "id": "d4e690fd-a8b2-4655-afeb-55f97529c2fe",
   "metadata": {
    "executionCancelledAt": null,
    "executionTime": 51,
    "jupyter": {
     "outputs_hidden": false,
     "source_hidden": false
    },
    "lastExecutedAt": 1695472726903,
    "lastScheduledRunId": null,
    "lastSuccessfullyExecutedCode": "df.describe()",
    "outputsMetadata": {
     "0": {
      "height": 264,
      "type": "dataFrame"
     }
    }
   },
   "outputs": [
    {
     "data": {
      "application/com.datacamp.data-table.v1+json": {
       "table": {
        "data": [
         {
          "index": "count",
          "product_id": 1500,
          "rating": 1350,
          "repeat_purchase": 1500,
          "sales": 1500
         },
         {
          "index": "mean",
          "product_id": 750.5,
          "rating": 4.9911111111,
          "repeat_purchase": 0.604,
          "sales": 996.5978466667
         },
         {
          "index": "std",
          "product_id": 433.1570154113,
          "rating": 1.5597545314,
          "repeat_purchase": 0.489227516,
          "sales": 323.9526760345
         },
         {
          "index": "min",
          "product_id": 1,
          "rating": 1,
          "repeat_purchase": 0,
          "sales": 286.94
         },
         {
          "index": "25%",
          "product_id": 375.75,
          "rating": 4,
          "repeat_purchase": 0,
          "sales": 747.42
         },
         {
          "index": "50%",
          "product_id": 750.5,
          "rating": 5,
          "repeat_purchase": 1,
          "sales": 1000.83
         },
         {
          "index": "75%",
          "product_id": 1125.25,
          "rating": 6,
          "repeat_purchase": 1,
          "sales": 1158.1575
         },
         {
          "index": "max",
          "product_id": 1500,
          "rating": 9,
          "repeat_purchase": 1,
          "sales": 2255.96
         }
        ],
        "schema": {
         "fields": [
          {
           "name": "index",
           "type": "string"
          },
          {
           "name": "product_id",
           "type": "number"
          },
          {
           "name": "sales",
           "type": "number"
          },
          {
           "name": "rating",
           "type": "number"
          },
          {
           "name": "repeat_purchase",
           "type": "number"
          }
         ],
         "pandas_version": "1.4.0",
         "primaryKey": [
          "index"
         ]
        }
       },
       "total_rows": 8,
       "truncation_type": null
      },
      "text/html": [
       "<div>\n",
       "<style scoped>\n",
       "    .dataframe tbody tr th:only-of-type {\n",
       "        vertical-align: middle;\n",
       "    }\n",
       "\n",
       "    .dataframe tbody tr th {\n",
       "        vertical-align: top;\n",
       "    }\n",
       "\n",
       "    .dataframe thead th {\n",
       "        text-align: right;\n",
       "    }\n",
       "</style>\n",
       "<table border=\"1\" class=\"dataframe\">\n",
       "  <thead>\n",
       "    <tr style=\"text-align: right;\">\n",
       "      <th></th>\n",
       "      <th>product_id</th>\n",
       "      <th>sales</th>\n",
       "      <th>rating</th>\n",
       "      <th>repeat_purchase</th>\n",
       "    </tr>\n",
       "  </thead>\n",
       "  <tbody>\n",
       "    <tr>\n",
       "      <th>count</th>\n",
       "      <td>1500.000000</td>\n",
       "      <td>1500.000000</td>\n",
       "      <td>1350.000000</td>\n",
       "      <td>1500.000000</td>\n",
       "    </tr>\n",
       "    <tr>\n",
       "      <th>mean</th>\n",
       "      <td>750.500000</td>\n",
       "      <td>996.597847</td>\n",
       "      <td>4.991111</td>\n",
       "      <td>0.604000</td>\n",
       "    </tr>\n",
       "    <tr>\n",
       "      <th>std</th>\n",
       "      <td>433.157015</td>\n",
       "      <td>323.952676</td>\n",
       "      <td>1.559755</td>\n",
       "      <td>0.489228</td>\n",
       "    </tr>\n",
       "    <tr>\n",
       "      <th>min</th>\n",
       "      <td>1.000000</td>\n",
       "      <td>286.940000</td>\n",
       "      <td>1.000000</td>\n",
       "      <td>0.000000</td>\n",
       "    </tr>\n",
       "    <tr>\n",
       "      <th>25%</th>\n",
       "      <td>375.750000</td>\n",
       "      <td>747.420000</td>\n",
       "      <td>4.000000</td>\n",
       "      <td>0.000000</td>\n",
       "    </tr>\n",
       "    <tr>\n",
       "      <th>50%</th>\n",
       "      <td>750.500000</td>\n",
       "      <td>1000.830000</td>\n",
       "      <td>5.000000</td>\n",
       "      <td>1.000000</td>\n",
       "    </tr>\n",
       "    <tr>\n",
       "      <th>75%</th>\n",
       "      <td>1125.250000</td>\n",
       "      <td>1158.157500</td>\n",
       "      <td>6.000000</td>\n",
       "      <td>1.000000</td>\n",
       "    </tr>\n",
       "    <tr>\n",
       "      <th>max</th>\n",
       "      <td>1500.000000</td>\n",
       "      <td>2255.960000</td>\n",
       "      <td>9.000000</td>\n",
       "      <td>1.000000</td>\n",
       "    </tr>\n",
       "  </tbody>\n",
       "</table>\n",
       "</div>"
      ],
      "text/plain": [
       "        product_id        sales       rating  repeat_purchase\n",
       "count  1500.000000  1500.000000  1350.000000      1500.000000\n",
       "mean    750.500000   996.597847     4.991111         0.604000\n",
       "std     433.157015   323.952676     1.559755         0.489228\n",
       "min       1.000000   286.940000     1.000000         0.000000\n",
       "25%     375.750000   747.420000     4.000000         0.000000\n",
       "50%     750.500000  1000.830000     5.000000         1.000000\n",
       "75%    1125.250000  1158.157500     6.000000         1.000000\n",
       "max    1500.000000  2255.960000     9.000000         1.000000"
      ]
     },
     "execution_count": 397,
     "metadata": {},
     "output_type": "execute_result"
    }
   ],
   "source": [
    "df.describe()"
   ]
  },
  {
   "cell_type": "code",
   "execution_count": 398,
   "id": "1e73c188-436e-4df7-a215-5ef1906470f6",
   "metadata": {
    "executionCancelledAt": null,
    "executionTime": 48,
    "lastExecutedAt": 1695472726952,
    "lastScheduledRunId": null,
    "lastSuccessfullyExecutedCode": "df.columns"
   },
   "outputs": [
    {
     "data": {
      "text/plain": [
       "Index(['product_id', 'category', 'animal', 'size', 'price', 'sales', 'rating',\n",
       "       'repeat_purchase'],\n",
       "      dtype='object')"
      ]
     },
     "execution_count": 398,
     "metadata": {},
     "output_type": "execute_result"
    }
   ],
   "source": [
    "df.columns"
   ]
  },
  {
   "cell_type": "code",
   "execution_count": 399,
   "id": "ee69a0ed-2e97-4c82-a79e-2db64cb214f9",
   "metadata": {
    "executionCancelledAt": null,
    "executionTime": 51,
    "lastExecutedAt": 1695472727003,
    "lastScheduledRunId": null,
    "lastSuccessfullyExecutedCode": "# 1. product_id\n# # Check if the criteria have been met\nproduct_id_missing = df['product_id'].isnull().sum()\nproduct_id_unique = df['product_id'].is_unique\nproduct_id_type = df['product_id'].dtype"
   },
   "outputs": [],
   "source": [
    "# 1. product_id\n",
    "# # Check if the criteria have been met\n",
    "product_id_missing = df['product_id'].isnull().sum()\n",
    "product_id_unique = df['product_id'].is_unique\n",
    "product_id_type = df['product_id'].dtype"
   ]
  },
  {
   "cell_type": "code",
   "execution_count": 400,
   "id": "6066349b-3123-44fe-bbf3-9f9e30fef879",
   "metadata": {
    "executionCancelledAt": null,
    "executionTime": 48,
    "lastExecutedAt": 1695472727052,
    "lastScheduledRunId": null,
    "lastSuccessfullyExecutedCode": "print(df.columns[0],product_id_missing, product_id_unique,product_id_type)",
    "outputsMetadata": {
     "0": {
      "height": 37,
      "type": "stream"
     }
    }
   },
   "outputs": [
    {
     "name": "stdout",
     "output_type": "stream",
     "text": [
      "product_id 0 True int64\n"
     ]
    }
   ],
   "source": [
    "print(df.columns[0],product_id_missing, product_id_unique,product_id_type)"
   ]
  },
  {
   "cell_type": "code",
   "execution_count": 403,
   "id": "78e286f2-ec02-4724-b742-9161e43e2312",
   "metadata": {
    "executionCancelledAt": null,
    "executionTime": 51,
    "lastExecutedAt": 1695472727203,
    "lastScheduledRunId": null,
    "lastSuccessfullyExecutedCode": "#2. category\n# Check if the criteria have been met\nexpected_values = [\"Housing\", \"Food\", \"Toys\", \"Equipment\", \"Medicine\", \"Accessory\"]\n\ncategory_missing = df['category'].isnull().sum()\ncategory_type = df['category'].dtype\ncategory_incorrect_names= df['category'].apply(lambda x: x not in expected_values).sum()\n\n\n"
   },
   "outputs": [],
   "source": [
    "#2. category\n",
    "# Check if the criteria have been met\n",
    "expected_values = [\"Housing\", \"Food\", \"Toys\", \"Equipment\", \"Medicine\", \"Accessory\"]\n",
    "\n",
    "category_missing = df['category'].isnull().sum()\n",
    "category_type = df['category'].dtype\n",
    "category_incorrect_names= df['category'].apply(lambda x: x not in expected_values).sum()\n",
    "\n",
    "\n"
   ]
  },
  {
   "cell_type": "code",
   "execution_count": 404,
   "id": "a46d677e-42a1-4d41-8e46-f00aa57fb76b",
   "metadata": {
    "executionCancelledAt": null,
    "executionTime": 52,
    "lastExecutedAt": 1695472727256,
    "lastScheduledRunId": null,
    "lastSuccessfullyExecutedCode": "print(df.columns[1],category_missing,\n      category_type,category_incorrect_names,df['category'].unique())",
    "outputsMetadata": {
     "0": {
      "height": 37,
      "type": "stream"
     }
    }
   },
   "outputs": [
    {
     "name": "stdout",
     "output_type": "stream",
     "text": [
      "category 0 object 25 ['Food' 'Housing' 'Medicine' 'Toys' 'Equipment' 'Accessory' '-']\n"
     ]
    }
   ],
   "source": [
    "print(df.columns[1],category_missing,\n",
    "      category_type,category_incorrect_names,df['category'].unique())"
   ]
  },
  {
   "cell_type": "code",
   "execution_count": 405,
   "id": "3830d2a8-70e2-4430-afa9-3fd9da89c18a",
   "metadata": {
    "executionCancelledAt": null,
    "executionTime": 47,
    "lastExecutedAt": 1695472727303,
    "lastScheduledRunId": null,
    "lastSuccessfullyExecutedCode": "# Change the incorrect names\ndf['category'] = df['category'].apply(lambda x: x if x in expected_values else 'Unknown')"
   },
   "outputs": [],
   "source": [
    "# Change the incorrect names\n",
    "df['category'] = df['category'].apply(lambda x: x if x in expected_values else 'Unknown')"
   ]
  },
  {
   "cell_type": "code",
   "execution_count": 406,
   "id": "1112bfbe-6617-47d1-9ed3-1fb9c602504b",
   "metadata": {
    "executionCancelledAt": null,
    "executionTime": 48,
    "lastExecutedAt": 1695472727352,
    "lastScheduledRunId": null,
    "lastSuccessfullyExecutedCode": "# Check if the change has happened\nprint(df.columns[1],category_missing,\n      category_type,category_incorrect_names,df['category'].unique())",
    "outputsMetadata": {
     "0": {
      "height": 37,
      "type": "stream"
     }
    }
   },
   "outputs": [
    {
     "name": "stdout",
     "output_type": "stream",
     "text": [
      "category 0 object 25 ['Food' 'Housing' 'Medicine' 'Toys' 'Equipment' 'Accessory' 'Unknown']\n"
     ]
    }
   ],
   "source": [
    "# Check if the change has happened\n",
    "print(df.columns[1],category_missing,\n",
    "      category_type,category_incorrect_names,df['category'].unique())"
   ]
  },
  {
   "cell_type": "code",
   "execution_count": 407,
   "id": "6dc19fa3-d22b-45a0-8ca4-5bc831fefcb1",
   "metadata": {
    "executionCancelledAt": null,
    "executionTime": 51,
    "lastExecutedAt": 1695472727403,
    "lastScheduledRunId": null,
    "lastSuccessfullyExecutedCode": "#3. animal\n# Check if the criteria have been met\nexpected_values = [\"Dog\", \"Cat\", \"Bird\", \"Fish\"]\n\nanimal_missing = df['animal'].isnull().sum()\nanimal_type = df['animal'].dtype\nanimal_incorrect_names= df['animal'].apply(lambda x: x not in expected_values).sum()"
   },
   "outputs": [],
   "source": [
    "#3. animal\n",
    "# Check if the criteria have been met\n",
    "expected_values = [\"Dog\", \"Cat\", \"Bird\", \"Fish\"]\n",
    "\n",
    "animal_missing = df['animal'].isnull().sum()\n",
    "animal_type = df['animal'].dtype\n",
    "animal_incorrect_names= df['animal'].apply(lambda x: x not in expected_values).sum()"
   ]
  },
  {
   "cell_type": "code",
   "execution_count": 408,
   "id": "0bb6bab4-b8e6-4e9e-9dcf-d354e3034d3b",
   "metadata": {
    "executionCancelledAt": null,
    "executionTime": 52,
    "lastExecutedAt": 1695472727456,
    "lastScheduledRunId": null,
    "lastSuccessfullyExecutedCode": "print(df.columns[2],animal_missing,\n      animal_type,animal_incorrect_names,df['animal'].unique())",
    "outputsMetadata": {
     "0": {
      "height": 37,
      "type": "stream"
     }
    }
   },
   "outputs": [
    {
     "name": "stdout",
     "output_type": "stream",
     "text": [
      "animal 0 object 0 ['Bird' 'Dog' 'Cat' 'Fish']\n"
     ]
    }
   ],
   "source": [
    "print(df.columns[2],animal_missing,\n",
    "      animal_type,animal_incorrect_names,df['animal'].unique())"
   ]
  },
  {
   "cell_type": "code",
   "execution_count": 409,
   "id": "29a8848d-49ce-4e09-9fb5-15f42999e3ee",
   "metadata": {
    "executionCancelledAt": null,
    "executionTime": 51,
    "lastExecutedAt": 1695472727507,
    "lastScheduledRunId": null,
    "lastSuccessfullyExecutedCode": "#4. size\n# Check if the criteria have been met\nexpected_values = [\"Small\", \"Medium\", \"Large\"]\n\nsize_missing = df['size'].isnull().sum()\nsize_type = df['size'].dtype\nsize_incorrect_names= df['size'].apply(lambda x: x not in expected_values).sum()\nsize_unique_values = df['size'].unique()"
   },
   "outputs": [],
   "source": [
    "#4. size\n",
    "# Check if the criteria have been met\n",
    "expected_values = [\"Small\", \"Medium\", \"Large\"]\n",
    "\n",
    "size_missing = df['size'].isnull().sum()\n",
    "size_type = df['size'].dtype\n",
    "size_incorrect_names= df['size'].apply(lambda x: x not in expected_values).sum()\n",
    "size_unique_values = df['size'].unique()"
   ]
  },
  {
   "cell_type": "code",
   "execution_count": 410,
   "id": "665a8f52-df68-4179-b8fa-7380fe9cd77c",
   "metadata": {
    "executionCancelledAt": null,
    "executionTime": 48,
    "lastExecutedAt": 1695472727555,
    "lastScheduledRunId": null,
    "lastSuccessfullyExecutedCode": "print(df.columns[3],size_missing,\n      size_type,size_incorrect_names,size_unique_values)",
    "outputsMetadata": {
     "0": {
      "height": 56,
      "type": "stream"
     }
    }
   },
   "outputs": [
    {
     "name": "stdout",
     "output_type": "stream",
     "text": [
      "size 0 object 1050 ['large' 'MEDIUM' 'medium' 'small' 'Small' 'Large' 'SMALL' 'Medium'\n",
      " 'LARGE']\n"
     ]
    }
   ],
   "source": [
    "print(df.columns[3],size_missing,\n",
    "      size_type,size_incorrect_names,size_unique_values)"
   ]
  },
  {
   "cell_type": "code",
   "execution_count": 411,
   "id": "b6fea98a-5f18-4fa3-abe5-e7f924536720",
   "metadata": {
    "executionCancelledAt": null,
    "executionTime": 48,
    "lastExecutedAt": 1695472727603,
    "lastScheduledRunId": null,
    "lastSuccessfullyExecutedCode": "# Standardize the data\ndf['size'] = df['size'].str.title()",
    "outputsMetadata": {
     "0": {
      "height": 251,
      "type": "stream"
     }
    }
   },
   "outputs": [],
   "source": [
    "# Standardize the data\n",
    "df['size'] = df['size'].str.title()"
   ]
  },
  {
   "cell_type": "code",
   "execution_count": 412,
   "id": "5c80ed08-5a69-44d6-bca6-11c904b8a3bf",
   "metadata": {
    "executionCancelledAt": null,
    "executionTime": 52,
    "lastExecutedAt": 1695472727655,
    "lastScheduledRunId": null,
    "lastSuccessfullyExecutedCode": "# Check if the change has happened\n\nsize_missing = df['size'].isnull().sum()\nsize_type = df['size'].dtype\nsize_incorrect_names= df['size'].apply(lambda x: x not in expected_values).sum()\nsize_unique_values = df['size'].unique()\nprint(df.columns[3],size_missing,\n      size_type,size_incorrect_names,size_unique_values)",
    "outputsMetadata": {
     "0": {
      "height": 37,
      "type": "stream"
     }
    }
   },
   "outputs": [
    {
     "name": "stdout",
     "output_type": "stream",
     "text": [
      "size 0 object 0 ['Large' 'Medium' 'Small']\n"
     ]
    }
   ],
   "source": [
    "# Check if the change has happened\n",
    "\n",
    "size_missing = df['size'].isnull().sum()\n",
    "size_type = df['size'].dtype\n",
    "size_incorrect_names= df['size'].apply(lambda x: x not in expected_values).sum()\n",
    "size_unique_values = df['size'].unique()\n",
    "print(df.columns[3],size_missing,\n",
    "      size_type,size_incorrect_names,size_unique_values)"
   ]
  },
  {
   "cell_type": "code",
   "execution_count": 413,
   "id": "19b17187-53cf-4b7c-8f65-d34bfaed6108",
   "metadata": {
    "executionCancelledAt": null,
    "executionTime": 52,
    "lastExecutedAt": 1695472727708,
    "lastScheduledRunId": null,
    "lastSuccessfullyExecutedCode": "#5. price\n# Check if the criteria have been met\nprint(df['price'].dtype,'\\n',df['price'].head(20))",
    "outputsMetadata": {
     "0": {
      "height": 446,
      "type": "stream"
     }
    }
   },
   "outputs": [
    {
     "name": "stdout",
     "output_type": "stream",
     "text": [
      "object \n",
      " 0      51.1\n",
      "1     35.98\n",
      "2     31.23\n",
      "3     24.95\n",
      "4     26.18\n",
      "5     30.77\n",
      "6     31.04\n",
      "7      28.9\n",
      "8     17.82\n",
      "9     24.93\n",
      "10    40.87\n",
      "11    34.96\n",
      "12    31.07\n",
      "13     40.8\n",
      "14    33.13\n",
      "15    43.09\n",
      "16    28.29\n",
      "17    43.91\n",
      "18    33.87\n",
      "19       44\n",
      "Name: price, dtype: object\n"
     ]
    }
   ],
   "source": [
    "#5. price\n",
    "# Check if the criteria have been met\n",
    "print(df['price'].dtype,'\\n',df['price'].head(20))"
   ]
  },
  {
   "cell_type": "code",
   "execution_count": 414,
   "id": "1e6bcda2-0972-4b78-b3af-90ad7cc72860",
   "metadata": {
    "executionCancelledAt": null,
    "executionTime": 52,
    "lastExecutedAt": 1695472727760,
    "lastScheduledRunId": null,
    "lastSuccessfullyExecutedCode": "df['price'] = pd.to_numeric(df['price'], errors='coerce')\nnegative = (df['price'] < 0).sum()\nprice_missing = df['price'].isnull().sum()\nprint(price_missing)",
    "outputsMetadata": {
     "0": {
      "height": 37,
      "type": "stream"
     }
    }
   },
   "outputs": [
    {
     "name": "stdout",
     "output_type": "stream",
     "text": [
      "150\n"
     ]
    }
   ],
   "source": [
    "df['price'] = pd.to_numeric(df['price'], errors='coerce')\n",
    "negative = (df['price'] < 0).sum()\n",
    "price_missing = df['price'].isnull().sum()\n",
    "print(price_missing)"
   ]
  },
  {
   "cell_type": "code",
   "execution_count": 415,
   "id": "fa36fbeb-3d70-45b5-9c1d-0d05e0860f5f",
   "metadata": {
    "executionCancelledAt": null,
    "executionTime": 51,
    "lastExecutedAt": 1695472727811,
    "lastScheduledRunId": null,
    "lastSuccessfullyExecutedCode": "# Convert to Numeric\ndf['price'] = pd.to_numeric(df['price'], errors='coerce')\n\n# Check for Negative Values and Missing values\nnegative_values_count = (df['price'] < 0).sum()\nprice_missing = df['price'].isnull().sum()\n\n# Replace Missing Values\nmedian_price = df['price'].median()\ndf['price'].fillna(median_price, inplace=True)\n\n# Round to 2 Decimal Places\ndf['price'] = df['price'].round(2)",
    "outputsMetadata": {
     "0": {
      "height": 37,
      "type": "stream"
     }
    }
   },
   "outputs": [],
   "source": [
    "# Convert to Numeric\n",
    "df['price'] = pd.to_numeric(df['price'], errors='coerce')\n",
    "\n",
    "# Check for Negative Values and Missing values\n",
    "negative_values_count = (df['price'] < 0).sum()\n",
    "price_missing = df['price'].isnull().sum()\n",
    "\n",
    "# Replace Missing Values\n",
    "median_price = df['price'].median()\n",
    "df['price'].fillna(median_price, inplace=True)\n",
    "\n",
    "# Round to 2 Decimal Places\n",
    "df['price'] = df['price'].round(2)"
   ]
  },
  {
   "cell_type": "code",
   "execution_count": 416,
   "id": "b17c8200-81d6-4d87-a8b4-c02b7c5a3929",
   "metadata": {
    "executionCancelledAt": null,
    "executionTime": 49,
    "lastExecutedAt": 1695472727860,
    "lastScheduledRunId": null,
    "lastSuccessfullyExecutedCode": "# Check if the change has happened\nprint(negative_values_count, price_missing,'\\n', df['price'].head(20))",
    "outputsMetadata": {
     "0": {
      "height": 446,
      "type": "stream"
     }
    }
   },
   "outputs": [
    {
     "name": "stdout",
     "output_type": "stream",
     "text": [
      "0 150 \n",
      " 0     51.10\n",
      "1     35.98\n",
      "2     31.23\n",
      "3     24.95\n",
      "4     26.18\n",
      "5     30.77\n",
      "6     31.04\n",
      "7     28.90\n",
      "8     17.82\n",
      "9     24.93\n",
      "10    40.87\n",
      "11    34.96\n",
      "12    31.07\n",
      "13    40.80\n",
      "14    33.13\n",
      "15    43.09\n",
      "16    28.29\n",
      "17    43.91\n",
      "18    33.87\n",
      "19    44.00\n",
      "Name: price, dtype: float64\n"
     ]
    }
   ],
   "source": [
    "# Check if the change has happened\n",
    "print(negative_values_count, price_missing,'\\n', df['price'].head(20))"
   ]
  },
  {
   "cell_type": "code",
   "execution_count": 417,
   "id": "1d192408-fa48-46a8-8a95-374d1862bf03",
   "metadata": {
    "executionCancelledAt": null,
    "executionTime": 51,
    "lastExecutedAt": 1695472727911,
    "lastScheduledRunId": null,
    "lastSuccessfullyExecutedCode": "#6. sales\n# Check if the criteria have been met\nprint(df['sales'].dtype,'\\n',df['sales'].head(20))",
    "outputsMetadata": {
     "0": {
      "height": 446,
      "type": "stream"
     }
    }
   },
   "outputs": [
    {
     "name": "stdout",
     "output_type": "stream",
     "text": [
      "float64 \n",
      " 0     1860.62\n",
      "1      963.60\n",
      "2      898.30\n",
      "3      982.15\n",
      "4      832.63\n",
      "5      874.58\n",
      "6      875.07\n",
      "7     1074.31\n",
      "8      503.67\n",
      "9      838.88\n",
      "10    1457.22\n",
      "11    1204.60\n",
      "12     889.73\n",
      "13    1450.50\n",
      "14     859.29\n",
      "15    1418.72\n",
      "16    1040.51\n",
      "17    1521.51\n",
      "18    1333.90\n",
      "19    1792.63\n",
      "Name: sales, dtype: float64\n"
     ]
    }
   ],
   "source": [
    "#6. sales\n",
    "# Check if the criteria have been met\n",
    "print(df['sales'].dtype,'\\n',df['sales'].head(20))"
   ]
  },
  {
   "cell_type": "code",
   "execution_count": 418,
   "id": "04c12d78-c5bd-433e-8dfe-6eec3db2c4f7",
   "metadata": {
    "executionCancelledAt": null,
    "executionTime": 48,
    "lastExecutedAt": 1695472727959,
    "lastScheduledRunId": null,
    "lastSuccessfullyExecutedCode": "# Check for Negative Values and Missing values\nnegative_values_count = (df['sales'] < 0).sum()\nsales_missing = df['sales'].isnull().sum()"
   },
   "outputs": [],
   "source": [
    "# Check for Negative Values and Missing values\n",
    "negative_values_count = (df['sales'] < 0).sum()\n",
    "sales_missing = df['sales'].isnull().sum()"
   ]
  },
  {
   "cell_type": "code",
   "execution_count": 419,
   "id": "2dcf9576-13f4-4f4d-9fa4-37b3dab30d67",
   "metadata": {
    "executionCancelledAt": null,
    "executionTime": 49,
    "lastExecutedAt": 1695472728008,
    "lastScheduledRunId": null,
    "lastSuccessfullyExecutedCode": "print(negative_values_count, sales_missing)",
    "outputsMetadata": {
     "0": {
      "height": 37,
      "type": "stream"
     }
    }
   },
   "outputs": [
    {
     "name": "stdout",
     "output_type": "stream",
     "text": [
      "0 0\n"
     ]
    }
   ],
   "source": [
    "print(negative_values_count, sales_missing)"
   ]
  },
  {
   "cell_type": "code",
   "execution_count": 420,
   "id": "a2688b63-d5bc-484b-8d8c-6ac46cd9d4ed",
   "metadata": {
    "executionCancelledAt": null,
    "executionTime": 48,
    "lastExecutedAt": 1695472728056,
    "lastScheduledRunId": null,
    "lastSuccessfullyExecutedCode": "# Round to 2 Decimal Places\ndf['sales'] = df['sales'].round(2)\nprint(df['sales'])",
    "outputsMetadata": {
     "0": {
      "height": 251,
      "type": "stream"
     }
    }
   },
   "outputs": [
    {
     "name": "stdout",
     "output_type": "stream",
     "text": [
      "0       1860.62\n",
      "1        963.60\n",
      "2        898.30\n",
      "3        982.15\n",
      "4        832.63\n",
      "         ...   \n",
      "1495    1203.36\n",
      "1496    1099.97\n",
      "1497     724.02\n",
      "1498     658.66\n",
      "1499     826.08\n",
      "Name: sales, Length: 1500, dtype: float64\n"
     ]
    }
   ],
   "source": [
    "# Round to 2 Decimal Places\n",
    "df['sales'] = df['sales'].round(2)\n",
    "print(df['sales'])"
   ]
  },
  {
   "cell_type": "code",
   "execution_count": 421,
   "id": "febe2f48-392b-4bc7-9260-90d4a4747b80",
   "metadata": {
    "executionCancelledAt": null,
    "executionTime": 52,
    "lastExecutedAt": 1695472728108,
    "lastScheduledRunId": null,
    "lastSuccessfullyExecutedCode": "#7. rating\n# Check Data Type\nrating_dtype = df['rating'].dtype\n# Check Missing values\nrating_missing = df['rating'].isnull().sum()\n# Check Value Range\nrating_value_range = (df['rating'].min(), df['rating'].max())\n\nprint(f'Type: {rating_dtype}, Missing Values: {rating_missing}, Range: {rating_value_range}')\n",
    "outputsMetadata": {
     "0": {
      "height": 37,
      "type": "stream"
     }
    }
   },
   "outputs": [
    {
     "name": "stdout",
     "output_type": "stream",
     "text": [
      "Type: float64, Missing Values: 150, Range: (1.0, 9.0)\n"
     ]
    }
   ],
   "source": [
    "#7. rating\n",
    "# Check Data Type\n",
    "rating_dtype = df['rating'].dtype\n",
    "# Check Missing values\n",
    "rating_missing = df['rating'].isnull().sum()\n",
    "# Check Value Range\n",
    "rating_value_range = (df['rating'].min(), df['rating'].max())\n",
    "\n",
    "print(f'Type: {rating_dtype}, Missing Values: {rating_missing}, Range: {rating_value_range}')\n"
   ]
  },
  {
   "cell_type": "code",
   "execution_count": 422,
   "id": "b85ccd7c-03e0-43fa-a6fc-59184db3c243",
   "metadata": {
    "executionCancelledAt": null,
    "executionTime": 52,
    "lastExecutedAt": 1695472728160,
    "lastScheduledRunId": null,
    "lastSuccessfullyExecutedCode": "# Replace Missing Values\ndf['rating'].fillna(0, inplace=True)\n\n# Values Check\nupdated_rating_value_range = (df['rating'].min(), df['rating'].max())\n\nrating_dtype, rating_value_range, updated_rating_value_range"
   },
   "outputs": [
    {
     "data": {
      "text/plain": [
       "(dtype('float64'), (1.0, 9.0), (0.0, 9.0))"
      ]
     },
     "execution_count": 422,
     "metadata": {},
     "output_type": "execute_result"
    }
   ],
   "source": [
    "# Replace Missing Values\n",
    "df['rating'].fillna(0, inplace=True)\n",
    "\n",
    "# Values Check\n",
    "updated_rating_value_range = (df['rating'].min(), df['rating'].max())\n",
    "\n",
    "rating_dtype, rating_value_range, updated_rating_value_range"
   ]
  },
  {
   "cell_type": "code",
   "execution_count": 423,
   "id": "061eee29-c80f-423f-875c-e5c04638dfea",
   "metadata": {
    "executionCancelledAt": null,
    "executionTime": 51,
    "lastExecutedAt": 1695472728211,
    "lastScheduledRunId": null,
    "lastSuccessfullyExecutedCode": "#8. repeat_purchase\n# Check Data Type\nrepeat_purchase_dtype = df['repeat_purchase'].dtype\n# Check Missing values\nrepeat_purchase_missing = df['repeat_purchase'].isnull().sum()\n# Check Value Range\nrepeat_purchase_range = (df['repeat_purchase'].min(), df['repeat_purchase'].max())\n\nprint(f'Type: {repeat_purchase_dtype}, Missing Values: {repeat_purchase_missing}, Range: {repeat_purchase_range}')",
    "outputsMetadata": {
     "0": {
      "height": 37,
      "type": "stream"
     }
    }
   },
   "outputs": [
    {
     "name": "stdout",
     "output_type": "stream",
     "text": [
      "Type: int64, Missing Values: 0, Range: (0, 1)\n"
     ]
    }
   ],
   "source": [
    "#8. repeat_purchase\n",
    "# Check Data Type\n",
    "repeat_purchase_dtype = df['repeat_purchase'].dtype\n",
    "# Check Missing values\n",
    "repeat_purchase_missing = df['repeat_purchase'].isnull().sum()\n",
    "# Check Value Range\n",
    "repeat_purchase_range = (df['repeat_purchase'].min(), df['repeat_purchase'].max())\n",
    "\n",
    "print(f'Type: {repeat_purchase_dtype}, Missing Values: {repeat_purchase_missing}, Range: {repeat_purchase_range}')"
   ]
  },
  {
   "cell_type": "code",
   "execution_count": 424,
   "id": "e8611d5e-1a45-4c69-8df4-3f8203edad44",
   "metadata": {
    "executionCancelledAt": null,
    "executionTime": 48,
    "lastExecutedAt": 1695472728259,
    "lastScheduledRunId": null,
    "lastSuccessfullyExecutedCode": "df['repeat_purchase']"
   },
   "outputs": [
    {
     "data": {
      "text/plain": [
       "0       1\n",
       "1       0\n",
       "2       1\n",
       "3       1\n",
       "4       1\n",
       "       ..\n",
       "1495    0\n",
       "1496    0\n",
       "1497    0\n",
       "1498    1\n",
       "1499    1\n",
       "Name: repeat_purchase, Length: 1500, dtype: int64"
      ]
     },
     "execution_count": 424,
     "metadata": {},
     "output_type": "execute_result"
    }
   ],
   "source": [
    "df['repeat_purchase']"
   ]
  },
  {
   "cell_type": "markdown",
   "id": "aa5d5ca6-6168-42a4-bff8-4ab1d30a4aa6",
   "metadata": {},
   "source": [
    "**product_id**: There are 1500 unique integer values that match the description given. There are no missing values. \n",
    "\n",
    "**category**: There were 1500 nominal values. There were no missing values. There were 25 incorrect names. These 25 incorrect names were changed to 'Unknown'\n",
    "\n",
    "**animal**: There are 1500 nominal values that match the description given. There are no missing values. \n",
    "\n",
    "**size**: There are 1,500 nominal values that match the given description, with no missing values. Among these, 1,050 values did not align with the expected categorical labels: \"Small\", \"Medium\", \"Large\", due to inconsistent capitalization. This inconsistency has been resolved by standardizing the data using the following command: df['size'] = df['size'].str.title().\n",
    "\n",
    "**price**: The \"price\" column in our dataset contains continuous data representing the cost of the sold products. Initially, it had 150 missing values, which were replaced with the median price value. The following steps were carried out in a Python environment using the pandas library: first, the \"price\" column was converted to a numeric data type using the command df['price'] = pd.to_numeric(df['price'], errors='coerce'). Then, a check was performed for any negative values and to tally the missing values. The median price was calculated and used to replace the missing values with the command df['price'].fillna(median_price, inplace=True). Finally, the values in the \"price\" column were rounded to two decimal places using the command df['price'] = df['price'].round(2) to maintain a consistent level of precision.\n",
    "\n",
    "**sales**: The “sales” column has a continuous data type and shows the value of all product sales over the last year. I rounded the values to two decimal places using the command df['sales'] = df['sales'].round(2). Upon checking with df['sales'].isnull().sum(), I found no missing values.\n",
    "\n",
    "**rating**: The “rating” column has a discrete data type and contains the customer ratings of the product, ranging from 1 to 10. A total of 150 missing values were identified, which were subsequently replaced with 0 using the command df['rating'].fillna(0, inplace=True). The number of missing values was determined with rating_missing = df['rating'].isnull().sum()\n",
    "\n",
    "**repeat_purchase**: There are 1500 nominal values that match the description given. There are no missing values. "
   ]
  },
  {
   "cell_type": "code",
   "execution_count": 425,
   "id": "7034bc96-2a3e-42dc-be68-05ed21cf902e",
   "metadata": {
    "executionCancelledAt": null,
    "executionTime": 48,
    "lastExecutedAt": 1695472728307,
    "lastScheduledRunId": null,
    "lastSuccessfullyExecutedCode": "# Verify data cleaning success\n#df.to_excel('output.xlsx', index=False)"
   },
   "outputs": [],
   "source": [
    "# Verify data cleaning success\n",
    "#df.to_excel('output.xlsx', index=False)"
   ]
  },
  {
   "cell_type": "code",
   "execution_count": 426,
   "id": "5bb2b86d-14ca-4d23-bbe3-a1f35ca25a10",
   "metadata": {
    "executionCancelledAt": null,
    "executionTime": 49,
    "lastExecutedAt": 1695472728356,
    "lastScheduledRunId": null,
    "lastSuccessfullyExecutedCode": "df.head(20)",
    "outputsMetadata": {
     "0": {
      "height": 312,
      "type": "dataFrame"
     }
    }
   },
   "outputs": [
    {
     "data": {
      "application/com.datacamp.data-table.v1+json": {
       "table": {
        "data": [
         {
          "animal": "Bird",
          "category": "Food",
          "index": 0,
          "price": 51.1,
          "product_id": "1",
          "rating": 7,
          "repeat_purchase": 1,
          "sales": 1860.62,
          "size": "Large"
         },
         {
          "animal": "Bird",
          "category": "Housing",
          "index": 1,
          "price": 35.98,
          "product_id": "2",
          "rating": 6,
          "repeat_purchase": 0,
          "sales": 963.6,
          "size": "Medium"
         },
         {
          "animal": "Dog",
          "category": "Food",
          "index": 2,
          "price": 31.23,
          "product_id": "3",
          "rating": 5,
          "repeat_purchase": 1,
          "sales": 898.3,
          "size": "Medium"
         },
         {
          "animal": "Cat",
          "category": "Medicine",
          "index": 3,
          "price": 24.95,
          "product_id": "4",
          "rating": 6,
          "repeat_purchase": 1,
          "sales": 982.15,
          "size": "Small"
         },
         {
          "animal": "Cat",
          "category": "Housing",
          "index": 4,
          "price": 26.18,
          "product_id": "5",
          "rating": 7,
          "repeat_purchase": 1,
          "sales": 832.63,
          "size": "Small"
         },
         {
          "animal": "Dog",
          "category": "Housing",
          "index": 5,
          "price": 30.77,
          "product_id": "6",
          "rating": 7,
          "repeat_purchase": 0,
          "sales": 874.58,
          "size": "Small"
         },
         {
          "animal": "Dog",
          "category": "Housing",
          "index": 6,
          "price": 31.04,
          "product_id": "7",
          "rating": 5,
          "repeat_purchase": 0,
          "sales": 875.07,
          "size": "Small"
         },
         {
          "animal": "Cat",
          "category": "Toys",
          "index": 7,
          "price": 28.9,
          "product_id": "8",
          "rating": 4,
          "repeat_purchase": 0,
          "sales": 1074.31,
          "size": "Medium"
         },
         {
          "animal": "Fish",
          "category": "Equipment",
          "index": 8,
          "price": 17.82,
          "product_id": "9",
          "rating": 5,
          "repeat_purchase": 0,
          "sales": 503.67,
          "size": "Medium"
         },
         {
          "animal": "Dog",
          "category": "Medicine",
          "index": 9,
          "price": 24.93,
          "product_id": "10",
          "rating": 8,
          "repeat_purchase": 0,
          "sales": 838.88,
          "size": "Medium"
         },
         {
          "animal": "Dog",
          "category": "Food",
          "index": 10,
          "price": 40.87,
          "product_id": "11",
          "rating": 7,
          "repeat_purchase": 1,
          "sales": 1457.22,
          "size": "Large"
         },
         {
          "animal": "Bird",
          "category": "Medicine",
          "index": 11,
          "price": 34.96,
          "product_id": "12",
          "rating": 5,
          "repeat_purchase": 1,
          "sales": 1204.6,
          "size": "Medium"
         },
         {
          "animal": "Dog",
          "category": "Food",
          "index": 12,
          "price": 31.07,
          "product_id": "13",
          "rating": 4,
          "repeat_purchase": 0,
          "sales": 889.73,
          "size": "Medium"
         },
         {
          "animal": "Dog",
          "category": "Food",
          "index": 13,
          "price": 40.8,
          "product_id": "14",
          "rating": 6,
          "repeat_purchase": 1,
          "sales": 1450.5,
          "size": "Large"
         },
         {
          "animal": "Bird",
          "category": "Accessory",
          "index": 14,
          "price": 33.13,
          "product_id": "15",
          "rating": 4,
          "repeat_purchase": 1,
          "sales": 859.29,
          "size": "Medium"
         },
         {
          "animal": "Bird",
          "category": "Accessory",
          "index": 15,
          "price": 43.09,
          "product_id": "16",
          "rating": 1,
          "repeat_purchase": 1,
          "sales": 1418.72,
          "size": "Large"
         },
         {
          "animal": "Cat",
          "category": "Equipment",
          "index": 16,
          "price": 28.29,
          "product_id": "17",
          "rating": 5,
          "repeat_purchase": 1,
          "sales": 1040.51,
          "size": "Small"
         },
         {
          "animal": "Bird",
          "category": "Toys",
          "index": 17,
          "price": 43.91,
          "product_id": "18",
          "rating": 3,
          "repeat_purchase": 1,
          "sales": 1521.51,
          "size": "Medium"
         },
         {
          "animal": "Cat",
          "category": "Toys",
          "index": 18,
          "price": 33.87,
          "product_id": "19",
          "rating": 6,
          "repeat_purchase": 0,
          "sales": 1333.9,
          "size": "Small"
         },
         {
          "animal": "Dog",
          "category": "Toys",
          "index": 19,
          "price": 44,
          "product_id": "20",
          "rating": 7,
          "repeat_purchase": 1,
          "sales": 1792.63,
          "size": "Large"
         }
        ],
        "schema": {
         "fields": [
          {
           "name": "index",
           "type": "integer"
          },
          {
           "name": "product_id",
           "type": "string"
          },
          {
           "name": "category",
           "type": "string"
          },
          {
           "name": "animal",
           "type": "string"
          },
          {
           "name": "size",
           "type": "string"
          },
          {
           "name": "price",
           "type": "number"
          },
          {
           "name": "sales",
           "type": "number"
          },
          {
           "name": "rating",
           "type": "number"
          },
          {
           "name": "repeat_purchase",
           "type": "integer"
          }
         ],
         "pandas_version": "1.4.0",
         "primaryKey": [
          "index"
         ]
        }
       },
       "total_rows": 20,
       "truncation_type": null
      },
      "text/html": [
       "<div>\n",
       "<style scoped>\n",
       "    .dataframe tbody tr th:only-of-type {\n",
       "        vertical-align: middle;\n",
       "    }\n",
       "\n",
       "    .dataframe tbody tr th {\n",
       "        vertical-align: top;\n",
       "    }\n",
       "\n",
       "    .dataframe thead th {\n",
       "        text-align: right;\n",
       "    }\n",
       "</style>\n",
       "<table border=\"1\" class=\"dataframe\">\n",
       "  <thead>\n",
       "    <tr style=\"text-align: right;\">\n",
       "      <th></th>\n",
       "      <th>product_id</th>\n",
       "      <th>category</th>\n",
       "      <th>animal</th>\n",
       "      <th>size</th>\n",
       "      <th>price</th>\n",
       "      <th>sales</th>\n",
       "      <th>rating</th>\n",
       "      <th>repeat_purchase</th>\n",
       "    </tr>\n",
       "  </thead>\n",
       "  <tbody>\n",
       "    <tr>\n",
       "      <th>0</th>\n",
       "      <td>1</td>\n",
       "      <td>Food</td>\n",
       "      <td>Bird</td>\n",
       "      <td>Large</td>\n",
       "      <td>51.10</td>\n",
       "      <td>1860.62</td>\n",
       "      <td>7.0</td>\n",
       "      <td>1</td>\n",
       "    </tr>\n",
       "    <tr>\n",
       "      <th>1</th>\n",
       "      <td>2</td>\n",
       "      <td>Housing</td>\n",
       "      <td>Bird</td>\n",
       "      <td>Medium</td>\n",
       "      <td>35.98</td>\n",
       "      <td>963.60</td>\n",
       "      <td>6.0</td>\n",
       "      <td>0</td>\n",
       "    </tr>\n",
       "    <tr>\n",
       "      <th>2</th>\n",
       "      <td>3</td>\n",
       "      <td>Food</td>\n",
       "      <td>Dog</td>\n",
       "      <td>Medium</td>\n",
       "      <td>31.23</td>\n",
       "      <td>898.30</td>\n",
       "      <td>5.0</td>\n",
       "      <td>1</td>\n",
       "    </tr>\n",
       "    <tr>\n",
       "      <th>3</th>\n",
       "      <td>4</td>\n",
       "      <td>Medicine</td>\n",
       "      <td>Cat</td>\n",
       "      <td>Small</td>\n",
       "      <td>24.95</td>\n",
       "      <td>982.15</td>\n",
       "      <td>6.0</td>\n",
       "      <td>1</td>\n",
       "    </tr>\n",
       "    <tr>\n",
       "      <th>4</th>\n",
       "      <td>5</td>\n",
       "      <td>Housing</td>\n",
       "      <td>Cat</td>\n",
       "      <td>Small</td>\n",
       "      <td>26.18</td>\n",
       "      <td>832.63</td>\n",
       "      <td>7.0</td>\n",
       "      <td>1</td>\n",
       "    </tr>\n",
       "    <tr>\n",
       "      <th>5</th>\n",
       "      <td>6</td>\n",
       "      <td>Housing</td>\n",
       "      <td>Dog</td>\n",
       "      <td>Small</td>\n",
       "      <td>30.77</td>\n",
       "      <td>874.58</td>\n",
       "      <td>7.0</td>\n",
       "      <td>0</td>\n",
       "    </tr>\n",
       "    <tr>\n",
       "      <th>6</th>\n",
       "      <td>7</td>\n",
       "      <td>Housing</td>\n",
       "      <td>Dog</td>\n",
       "      <td>Small</td>\n",
       "      <td>31.04</td>\n",
       "      <td>875.07</td>\n",
       "      <td>5.0</td>\n",
       "      <td>0</td>\n",
       "    </tr>\n",
       "    <tr>\n",
       "      <th>7</th>\n",
       "      <td>8</td>\n",
       "      <td>Toys</td>\n",
       "      <td>Cat</td>\n",
       "      <td>Medium</td>\n",
       "      <td>28.90</td>\n",
       "      <td>1074.31</td>\n",
       "      <td>4.0</td>\n",
       "      <td>0</td>\n",
       "    </tr>\n",
       "    <tr>\n",
       "      <th>8</th>\n",
       "      <td>9</td>\n",
       "      <td>Equipment</td>\n",
       "      <td>Fish</td>\n",
       "      <td>Medium</td>\n",
       "      <td>17.82</td>\n",
       "      <td>503.67</td>\n",
       "      <td>5.0</td>\n",
       "      <td>0</td>\n",
       "    </tr>\n",
       "    <tr>\n",
       "      <th>9</th>\n",
       "      <td>10</td>\n",
       "      <td>Medicine</td>\n",
       "      <td>Dog</td>\n",
       "      <td>Medium</td>\n",
       "      <td>24.93</td>\n",
       "      <td>838.88</td>\n",
       "      <td>8.0</td>\n",
       "      <td>0</td>\n",
       "    </tr>\n",
       "    <tr>\n",
       "      <th>10</th>\n",
       "      <td>11</td>\n",
       "      <td>Food</td>\n",
       "      <td>Dog</td>\n",
       "      <td>Large</td>\n",
       "      <td>40.87</td>\n",
       "      <td>1457.22</td>\n",
       "      <td>7.0</td>\n",
       "      <td>1</td>\n",
       "    </tr>\n",
       "    <tr>\n",
       "      <th>11</th>\n",
       "      <td>12</td>\n",
       "      <td>Medicine</td>\n",
       "      <td>Bird</td>\n",
       "      <td>Medium</td>\n",
       "      <td>34.96</td>\n",
       "      <td>1204.60</td>\n",
       "      <td>5.0</td>\n",
       "      <td>1</td>\n",
       "    </tr>\n",
       "    <tr>\n",
       "      <th>12</th>\n",
       "      <td>13</td>\n",
       "      <td>Food</td>\n",
       "      <td>Dog</td>\n",
       "      <td>Medium</td>\n",
       "      <td>31.07</td>\n",
       "      <td>889.73</td>\n",
       "      <td>4.0</td>\n",
       "      <td>0</td>\n",
       "    </tr>\n",
       "    <tr>\n",
       "      <th>13</th>\n",
       "      <td>14</td>\n",
       "      <td>Food</td>\n",
       "      <td>Dog</td>\n",
       "      <td>Large</td>\n",
       "      <td>40.80</td>\n",
       "      <td>1450.50</td>\n",
       "      <td>6.0</td>\n",
       "      <td>1</td>\n",
       "    </tr>\n",
       "    <tr>\n",
       "      <th>14</th>\n",
       "      <td>15</td>\n",
       "      <td>Accessory</td>\n",
       "      <td>Bird</td>\n",
       "      <td>Medium</td>\n",
       "      <td>33.13</td>\n",
       "      <td>859.29</td>\n",
       "      <td>4.0</td>\n",
       "      <td>1</td>\n",
       "    </tr>\n",
       "    <tr>\n",
       "      <th>15</th>\n",
       "      <td>16</td>\n",
       "      <td>Accessory</td>\n",
       "      <td>Bird</td>\n",
       "      <td>Large</td>\n",
       "      <td>43.09</td>\n",
       "      <td>1418.72</td>\n",
       "      <td>1.0</td>\n",
       "      <td>1</td>\n",
       "    </tr>\n",
       "    <tr>\n",
       "      <th>16</th>\n",
       "      <td>17</td>\n",
       "      <td>Equipment</td>\n",
       "      <td>Cat</td>\n",
       "      <td>Small</td>\n",
       "      <td>28.29</td>\n",
       "      <td>1040.51</td>\n",
       "      <td>5.0</td>\n",
       "      <td>1</td>\n",
       "    </tr>\n",
       "    <tr>\n",
       "      <th>17</th>\n",
       "      <td>18</td>\n",
       "      <td>Toys</td>\n",
       "      <td>Bird</td>\n",
       "      <td>Medium</td>\n",
       "      <td>43.91</td>\n",
       "      <td>1521.51</td>\n",
       "      <td>3.0</td>\n",
       "      <td>1</td>\n",
       "    </tr>\n",
       "    <tr>\n",
       "      <th>18</th>\n",
       "      <td>19</td>\n",
       "      <td>Toys</td>\n",
       "      <td>Cat</td>\n",
       "      <td>Small</td>\n",
       "      <td>33.87</td>\n",
       "      <td>1333.90</td>\n",
       "      <td>6.0</td>\n",
       "      <td>0</td>\n",
       "    </tr>\n",
       "    <tr>\n",
       "      <th>19</th>\n",
       "      <td>20</td>\n",
       "      <td>Toys</td>\n",
       "      <td>Dog</td>\n",
       "      <td>Large</td>\n",
       "      <td>44.00</td>\n",
       "      <td>1792.63</td>\n",
       "      <td>7.0</td>\n",
       "      <td>1</td>\n",
       "    </tr>\n",
       "  </tbody>\n",
       "</table>\n",
       "</div>"
      ],
      "text/plain": [
       "   product_id   category animal  ...    sales  rating  repeat_purchase\n",
       "0           1       Food   Bird  ...  1860.62     7.0                1\n",
       "1           2    Housing   Bird  ...   963.60     6.0                0\n",
       "2           3       Food    Dog  ...   898.30     5.0                1\n",
       "3           4   Medicine    Cat  ...   982.15     6.0                1\n",
       "4           5    Housing    Cat  ...   832.63     7.0                1\n",
       "5           6    Housing    Dog  ...   874.58     7.0                0\n",
       "6           7    Housing    Dog  ...   875.07     5.0                0\n",
       "7           8       Toys    Cat  ...  1074.31     4.0                0\n",
       "8           9  Equipment   Fish  ...   503.67     5.0                0\n",
       "9          10   Medicine    Dog  ...   838.88     8.0                0\n",
       "10         11       Food    Dog  ...  1457.22     7.0                1\n",
       "11         12   Medicine   Bird  ...  1204.60     5.0                1\n",
       "12         13       Food    Dog  ...   889.73     4.0                0\n",
       "13         14       Food    Dog  ...  1450.50     6.0                1\n",
       "14         15  Accessory   Bird  ...   859.29     4.0                1\n",
       "15         16  Accessory   Bird  ...  1418.72     1.0                1\n",
       "16         17  Equipment    Cat  ...  1040.51     5.0                1\n",
       "17         18       Toys   Bird  ...  1521.51     3.0                1\n",
       "18         19       Toys    Cat  ...  1333.90     6.0                0\n",
       "19         20       Toys    Dog  ...  1792.63     7.0                1\n",
       "\n",
       "[20 rows x 8 columns]"
      ]
     },
     "execution_count": 426,
     "metadata": {},
     "output_type": "execute_result"
    }
   ],
   "source": [
    "df.head(20)"
   ]
  },
  {
   "cell_type": "markdown",
   "id": "643d4c36-4183-4fbe-a263-6b9de60d29da",
   "metadata": {
    "jupyter": {
     "outputs_hidden": false,
     "source_hidden": false
    }
   },
   "source": [
    "## Task 2"
   ]
  },
  {
   "cell_type": "markdown",
   "id": "9660735c-7b3a-40e5-a116-541dff6396d1",
   "metadata": {},
   "source": [
    "Create a visualization that shows how many products are repeat purchases.Use the visualization to: \n",
    "\n",
    "a. State which category of the variable repeat purchases has the most observations. \n",
    "\n",
    "b. Explain whether the observations are balanced across categories of the variable repeat purchases."
   ]
  },
  {
   "cell_type": "markdown",
   "id": "8d505c91-372a-4b77-b829-05f7ac827e9e",
   "metadata": {},
   "source": [
    "![barplot_rep_purch](barplot_rep_purch.png)\n"
   ]
  },
  {
   "cell_type": "markdown",
   "id": "f6dcafc8-f6f4-4952-a909-4d22663d3822",
   "metadata": {},
   "source": [
    "![barplot_rep_purch_product](barplot_rep_purch_product.png)\n"
   ]
  },
  {
   "cell_type": "markdown",
   "id": "1d2cef68-b2e2-4638-afd8-0772afad3e13",
   "metadata": {},
   "source": [
    "![rep_purch_product](rep_purch_product.png)\n"
   ]
  },
  {
   "cell_type": "markdown",
   "id": "e97370cb-7f4e-42ac-b302-2ede95ffd0ff",
   "metadata": {},
   "source": [
    "First, we examine the distribution of purchases versus non-purchases. The category indicating repeat purchases (1) has more observations (Total: 906) compared to the category of non-repeat purchases (0) (Total: 594). Repeat purchases account for 60.40% of our products while non-repeat purchases account for 39.60% of our products.\n",
    "The observations are not balanced across these two categories, with the repeat purchase category having a higher count, indicative of an imbalance\n",
    "\n",
    "Second, upon examining the products more specifically, we observe that:\n",
    "The \"Equipment\" category leads with the highest number of repeat purchases (221). It is followed by the \"Medicine\" category, which has a comparable number of repeat purchases alongside \"Housing\" and \"Food\". The \"Toys\" category comes next, while the \"Accessory\" category records fewer repeat purchases. The distribution of repeat purchases is not balanced across categories, with \"Equipment\" registering 221 and \"Unknown\" registering the lowest at 14. This reflects varying levels of repeat purchasing across different categories."
   ]
  },
  {
   "cell_type": "markdown",
   "id": "ce5f6df2-fbf2-4c44-9209-9ee668876b53",
   "metadata": {
    "jupyter": {
     "outputs_hidden": false,
     "source_hidden": false
    }
   },
   "source": [
    "## Task 3"
   ]
  },
  {
   "cell_type": "markdown",
   "id": "8fcff247-db49-42c0-8710-51848aeb6347",
   "metadata": {},
   "source": [
    "Describe the distribution of all of the sales.\n",
    "\n",
    "Your answer must include a visualization that shows the distribution."
   ]
  },
  {
   "cell_type": "markdown",
   "id": "8622f0a2-f954-448d-8c6a-f043f5b71238",
   "metadata": {},
   "source": [
    "![sales_distr](sales_distr.png)\n"
   ]
  },
  {
   "cell_type": "code",
   "execution_count": 427,
   "id": "429f9e69-cbbf-4eb1-821e-efa15f02f70c",
   "metadata": {
    "executionCancelledAt": null,
    "executionTime": 475,
    "lastExecutedAt": 1695472728831,
    "lastScheduledRunId": null,
    "lastSuccessfullyExecutedCode": "#file_path = 'output.xlsx'\n#df = pd.read_excel(file_path)\n\n# Set up the matplotlib figure\nfig, axes = plt.subplots(2, 1, figsize=(10, 12))\n\n# Plot a histogram and KDE for the sales data\nsns.histplot(df['sales'], kde=True, ax=axes[0], bins=30, color='skyblue')\naxes[0].set_title('Histogram and KDE of Sales', fontsize=14)\naxes[0].set_xlabel('Sales', fontsize=12)\naxes[0].set_ylabel('Frequency', fontsize=12)\n\n# Plot a box plot for the sales data\nsns.boxplot(x=df['sales'], ax=axes[1], color='lightcoral')\naxes[1].set_title('Box Plot of Sales', fontsize=14)\naxes[1].set_xlabel('Sales', fontsize=12)\n\nplt.tight_layout()\nplt.show()\n"
   },
   "outputs": [
    {
     "data": {
      "image/png": "[encoded data removed]",
      "text/plain": [
       "<Figure size 1000x1200 with 2 Axes>"
      ]
     },
     "metadata": {},
     "output_type": "display_data"
    }
   ],
   "source": [
    "#file_path = 'output.xlsx'\n",
    "#df = pd.read_excel(file_path)\n",
    "\n",
    "# Set up the matplotlib figure\n",
    "fig, axes = plt.subplots(2, 1, figsize=(10, 12))\n",
    "\n",
    "# Plot a histogram and KDE for the sales data\n",
    "sns.histplot(df['sales'], kde=True, ax=axes[0], bins=30, color='skyblue')\n",
    "axes[0].set_title('Histogram and KDE of Sales', fontsize=14)\n",
    "axes[0].set_xlabel('Sales', fontsize=12)\n",
    "axes[0].set_ylabel('Frequency', fontsize=12)\n",
    "\n",
    "# Plot a box plot for the sales data\n",
    "sns.boxplot(x=df['sales'], ax=axes[1], color='lightcoral')\n",
    "axes[1].set_title('Box Plot of Sales', fontsize=14)\n",
    "axes[1].set_xlabel('Sales', fontsize=12)\n",
    "\n",
    "plt.tight_layout()\n",
    "plt.show()\n"
   ]
  },
  {
   "cell_type": "code",
   "execution_count": 428,
   "id": "8ac64523-c865-4246-8383-ddd662701d77",
   "metadata": {
    "executionCancelledAt": null,
    "executionTime": 53,
    "lastExecutedAt": 1695472728884,
    "lastScheduledRunId": null,
    "lastSuccessfullyExecutedCode": "# Calculate skewness and kurtosis\nskewness = skew(df['sales'])\nkurtosis_value = kurtosis(df['sales'])\n\n# Identify the mode (peak) of the distribution\nmode_value = mode(df['sales'])[0][0]\n\nprint(f'skewness: {skewness} , kurtosis_value: {kurtosis_value}, mode_value: {mode_value}')",
    "outputsMetadata": {
     "0": {
      "height": 37,
      "type": "stream"
     }
    }
   },
   "outputs": [
    {
     "name": "stdout",
     "output_type": "stream",
     "text": [
      "skewness: 0.5688145602566145 , kurtosis_value: 0.6464721366390691, mode_value: 1034.36\n"
     ]
    }
   ],
   "source": [
    "# Calculate skewness and kurtosis\n",
    "skewness = skew(df['sales'])\n",
    "kurtosis_value = kurtosis(df['sales'])\n",
    "\n",
    "# Identify the mode (peak) of the distribution\n",
    "mode_value = mode(df['sales'])[0][0]\n",
    "\n",
    "print(f'skewness: {skewness} , kurtosis_value: {kurtosis_value}, mode_value: {mode_value}')"
   ]
  },
  {
   "cell_type": "markdown",
   "id": "332166ab-43a9-43c0-9de0-ddf73cc1fbd5",
   "metadata": {},
   "source": [
    "The histogram illustrates a leptokurtic and right-skewed distribution (skewness = 0.569 and kurtosis = 0.646) of sales, with a mode at 1034.36. Most sales cluster around $1,000, while outliers with significantly higher sales suggest possible impacts from certain products or events. Further analysis is required to extract more insights."
   ]
  },
  {
   "cell_type": "markdown",
   "id": "c5fbe3a0-d277-437c-a1a0-f1edf80684f7",
   "metadata": {},
   "source": [
    "## Task 4"
   ]
  },
  {
   "cell_type": "markdown",
   "id": "1b860527-35c3-4589-99bf-7101216bc84a",
   "metadata": {},
   "source": [
    "![purch_sales](purch_sales.png)\n"
   ]
  },
  {
   "cell_type": "markdown",
   "id": "560cb2aa-36d8-4c5f-85e2-dbc0484a2390",
   "metadata": {},
   "source": [
    "![purch_sales_2](purch_sales_2.png)\n"
   ]
  },
  {
   "cell_type": "markdown",
   "id": "b288ec07-2601-4630-bcaa-ba65db22bb2b",
   "metadata": {},
   "source": [
    "In the figures above, we observe that the sum of sales from repeat purchases is higher than that from non-repeat purchases. This trend suggests a possible satisfactory level of customer satisfaction, leading to higher repeat purchases. Further analysis is required to extract more insights."
   ]
  }
 ],
 "metadata": {
  "colab": {
   "name": "Welcome to DataCamp Workspaces.ipynb",
   "provenance": []
  },
  "kernelspec": {
   "display_name": "Python 3 (ipykernel)",
   "language": "python",
   "name": "python3"
  },
  "language_info": {
   "codemirror_mode": {
    "name": "ipython",
    "version": 3
   },
   "file_extension": ".py",
   "mimetype": "text/x-python",
   "name": "python",
   "nbconvert_exporter": "python",
   "pygments_lexer": "ipython3",
   "version": "3.9.12"
  }
 },
 "nbformat": 4,
 "nbformat_minor": 5
}
